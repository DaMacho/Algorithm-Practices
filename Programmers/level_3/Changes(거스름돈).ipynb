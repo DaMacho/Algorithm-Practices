{
 "cells": [
  {
   "cell_type": "markdown",
   "metadata": {},
   "source": [
    "**문제**    \n",
    "거스름돈 (level 3)"
   ]
  },
  {
   "cell_type": "markdown",
   "metadata": {},
   "source": [
    "문제 설명    \n",
    "Finn은 편의점에서 야간 아르바이트를 하고 있습니다. 야간에 손님이 너무 없어 심심한 Finn은 손님들께 거스름돈을 n 원을 줄 때 방법의 경우의 수를 구하기로 하였습니다.   \n",
    "\n",
    "예를 들어서 손님께 5원을 거슬러 줘야 하고 1원, 2원, 5원이 있다면 다음과 같이 4가지 방법으로 5원을 거슬러 줄 수 있습니다.   \n",
    "\n",
    "- 1원을 5개 사용해서 거슬러 준다.\n",
    "- 1원을 3개 사용하고, 2원을 1개 사용해서 거슬러 준다.\n",
    "- 1원을 1개 사용하고, 2원을 2개 사용해서 거슬러 준다.\n",
    "- 5원을 1개 사용해서 거슬러 준다.\n",
    "\n",
    "거슬러 줘야 하는 금액 n과 Finn이 현재 보유하고 있는 돈의 종류 money가 매개변수로 주어질 때, Finn이 n 원을 거슬러 줄 방법의 수를 return 하도록 solution 함수를 완성해 주세요.   \n",
    "\n",
    "제한 사항   \n",
    "- n은 100,000 이하의 자연수입니다.\n",
    "- 화폐 단위는 100종류 이하입니다.\n",
    "- 모든 화폐는 무한하게 있다고 가정합니다.\n",
    "- 정답이 커질 수 있으니, 1,000,000,007로 나눈 나머지를 return 해주세요."
   ]
  },
  {
   "cell_type": "markdown",
   "metadata": {},
   "source": [
    "<br>"
   ]
  },
  {
   "cell_type": "markdown",
   "metadata": {},
   "source": [
    "[접근]   \n"
   ]
  },
  {
   "cell_type": "markdown",
   "metadata": {},
   "source": [
    "n|money|result\n",
    "--|--|--\n",
    "5|[1,2,5]|4\n",
    "5|[1,2,3,5]|6\n",
    "\n",
    "대략 감으로 DP를 사용해야겠다는 것은 알겠으나,    \n",
    "저장형태(?)로 테이블을 어떻게 짜야할지 막막했다.     \n",
    "\n",
    "DP가 기본적으로 재귀(recursion), 기억(memoization), 상향(bottom-up)이라는 세가지 요소를 갖춘다고 알았지만 실제 적용에서는 어려웠다.\n",
    "\n",
    "승완이가 테이블을 짜는 법을 알려줬다.    \n",
    "잊을까봐 급하게 남김...   \n",
    "\n",
    "-|0|1|2|3|4|5|6|7|8\n",
    "-|-|-|-|-|-|-|-|-|-\n",
    "1|(1)|1|1|1|1|1|1|1|1\n",
    "2|(1)|1|2|2|3|3|4|4|5\n",
    "3|(1)|1|2|3|4|5|7|8|10\n",
    "5|(1)|1|2|3|4|6|8|10|13\n",
    "\n",
    "<center>memo[r][i] = memo[r-1][i] + memo[r][i-column(r)]</center>\n",
    "\n",
    "\n",
    "다이나믹 프로그래밍(DP)에 대한 이해가 부족하고 사고방식이 익숙하지 않다보니 적용이 어렵다.   \n",
    "피보나치 수열을 통해 DP를 연습해보았다."
   ]
  },
  {
   "cell_type": "code",
   "execution_count": 4,
   "metadata": {},
   "outputs": [
    {
     "data": {
      "text/plain": [
       "1"
      ]
     },
     "execution_count": 4,
     "metadata": {},
     "output_type": "execute_result"
    }
   ],
   "source": [
    "# DP를 위한 피보나치 수열 복습\n",
    "\n",
    "'''\n",
    "1,1,2,3,5,8,13,21,...\n",
    "'''\n",
    "\n",
    "def fibo(n):\n",
    "    if n == 1 or n == 2:\n",
    "        result = 1\n",
    "    else: \n",
    "        result = fibo(n-2) + fibo(n-1)\n",
    "    return result\n",
    "\n",
    "\n",
    "def fibo_memo(n):\n",
    "    memo = [None] * (n+1)\n",
    "    \n",
    "    def fibo_2(n, memo):\n",
    "        if memo[n] is not None:\n",
    "            return memo[n]\n",
    "        if n == 1 or n == 2:\n",
    "            result = 1\n",
    "        else:\n",
    "            result = fibo_2(n-2, memo) + fibo_2(n-1, memo)\n",
    "        memo[n] = result\n",
    "        return result\n",
    "    \n",
    "    return fibo_2(n, memo)\n",
    "\n",
    "\n",
    "def fibo_bottomUp(n):\n",
    "    if n == 1 or n == 2:\n",
    "        return 1\n",
    "    bottom_up = [None] * (n+1)\n",
    "    bottom_up[1], bottom_up[2] = 1,1\n",
    "    for i in range(3, n+1):\n",
    "        bottom_up[i] = bottom_up[i-1] + bottom_up[i-2]\n",
    "    return bottom_up[n]\n",
    "        \n",
    "fibo(8)\n",
    "fibo_memo(8)\n",
    "fibo_bottomUp(2)"
   ]
  },
  {
   "cell_type": "markdown",
   "metadata": {},
   "source": [
    "1차원 배열을 통한 피보나치 수열도 짜는데 상당히 고생을 했다.   "
   ]
  },
  {
   "cell_type": "code",
   "execution_count": 1,
   "metadata": {},
   "outputs": [
    {
     "name": "stdout",
     "output_type": "stream",
     "text": [
      "3 5\n",
      "4 5\n"
     ]
    }
   ],
   "source": [
    "def test1(n, money):\n",
    "    memo = [[None for _ in range(n)] for i in range(len(money))]\n",
    "#     memo = [[None] * n] * len(money)\n",
    "    print(len(memo), len(memo[0]))\n",
    "\n",
    "test1(5, [1,2,5])\n",
    "test1(5, [1,2,3,5])"
   ]
  },
  {
   "cell_type": "code",
   "execution_count": 21,
   "metadata": {},
   "outputs": [
    {
     "name": "stdout",
     "output_type": "stream",
     "text": [
      "[[1, 1, 1, 1, 1, 1, 1, 1, 1], [1, 1, 2, 2, 3, 3, 4, 4, 5], [1, 1, 2, 3, 4, 5, 7, 8, 10], [1, 1, 2, 3, 4, 6, 8, 10, 13]]\n"
     ]
    }
   ],
   "source": [
    "def test2(n, money):\n",
    "    memo = [[0 for _ in range(n+1)] for _ in range(len(money))]\n",
    "    for i in range(len(money)): memo[i][0] = 1\n",
    "    r = 0\n",
    "    while r < len(money):\n",
    "        for i in range(1,n+1):\n",
    "            if r == 0:\n",
    "                try:\n",
    "                    memo[r][i] = memo[r][i-money[r]]\n",
    "                except: pass\n",
    "            else:\n",
    "                try:\n",
    "                    memo[r][i] = memo[r-1][i] + memo[r][i-money[r]]\n",
    "                except:\n",
    "                    memo[r][i] = memo[r-1][i]\n",
    "        r += 1\n",
    "    print(memo)\n",
    "    \n",
    "    \n",
    "test2(8, [1,2,3,5])"
   ]
  },
  {
   "cell_type": "code",
   "execution_count": 1,
   "metadata": {},
   "outputs": [],
   "source": [
    "def solution(n, money):\n",
    "    memo = [[0 for _ in range(n+1)] for _ in range(len(money))]\n",
    "    for i in range(len(money)): memo[i][0] = 1\n",
    "    r = 0\n",
    "    while r < len(money):\n",
    "        for i in range(1,n+1):\n",
    "            if r == 0:\n",
    "                try:\n",
    "                    memo[r][i] = memo[r][i-money[r]]\n",
    "                except: pass\n",
    "            else:\n",
    "                try:\n",
    "                    memo[r][i] = memo[r-1][i] + memo[r][i-money[r]]\n",
    "                except:\n",
    "                    memo[r][i] = memo[r-1][i]\n",
    "        r += 1\n",
    "    return memo[-1][-1]"
   ]
  },
  {
   "cell_type": "code",
   "execution_count": 2,
   "metadata": {},
   "outputs": [
    {
     "data": {
      "text/plain": [
       "13"
      ]
     },
     "execution_count": 2,
     "metadata": {},
     "output_type": "execute_result"
    }
   ],
   "source": [
    "solution(8, [1,2,3,5])"
   ]
  },
  {
   "cell_type": "markdown",
   "metadata": {},
   "source": [
    "문제 출처\n",
    "- https://programmers.co.kr/learn/courses/30/lessons/12907"
   ]
  }
 ],
 "metadata": {
  "kernelspec": {
   "display_name": "Python 3",
   "language": "python",
   "name": "python3"
  },
  "language_info": {
   "codemirror_mode": {
    "name": "ipython",
    "version": 3
   },
   "file_extension": ".py",
   "mimetype": "text/x-python",
   "name": "python",
   "nbconvert_exporter": "python",
   "pygments_lexer": "ipython3",
   "version": "3.6.4"
  }
 },
 "nbformat": 4,
 "nbformat_minor": 2
}
