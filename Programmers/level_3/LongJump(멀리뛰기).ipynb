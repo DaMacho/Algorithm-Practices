{
 "cells": [
  {
   "cell_type": "markdown",
   "metadata": {},
   "source": [
    "**문제**    \n",
    "멀리뛰기 (level 3)"
   ]
  },
  {
   "cell_type": "markdown",
   "metadata": {},
   "source": [
    "문제 설명    \n",
    "효진이는 멀리 뛰기를 연습하고 있습니다. 효진이는 한번에 1칸, 또는 2칸을 뛸 수 있습니다. 칸이 총 4개 있을 때, 효진이는   \n",
    "(1칸, 1칸, 1칸, 1칸)   \n",
    "(1칸, 2칸, 1칸)   \n",
    "(1칸, 1칸, 2칸)   \n",
    "(2칸, 1칸, 1칸)   \n",
    "(2칸, 2칸)   \n",
    "\n",
    "의 5가지 방법으로 맨 끝 칸에 도달할 수 있습니다. 멀리뛰기에 사용될 칸의 수 n이 주어질 때, 효진이가 끝에 도달하는 방법이 몇 가지인지 알아내, 여기에 1234567를 나눈 나머지를 리턴하는 함수, solution을 완성하세요. 예를 들어 4가 입력된다면, 5를 return하면 됩니다.   \n",
    "\n",
    "제한 사항   \n",
    "- n은 1 이상, 2000 이하인 정수입니다.\n"
   ]
  },
  {
   "cell_type": "markdown",
   "metadata": {},
   "source": [
    "<br>"
   ]
  },
  {
   "cell_type": "markdown",
   "metadata": {},
   "source": [
    "[접근]   \n",
    "이거는 피보나치 수열 문제이다.    \n",
    "\n",
    "n|[]|result\n",
    "-|-|-\n",
    "1|[1]|1\n",
    "2|[1,1],[2]|2\n",
    "3|[1,1,1],[1,2],[2,1]|3\n",
    "4|[1,1,1,1],[1,1,2],[1,2,1],[2,1,1],[2,2]|5\n",
    "5|[1,1,1,1,1],[1,1,1,2],[1,1,2,1],[1,2,1,1],[2,1,1,1],[1,2,2],[2,2,1],[2,1,2]|8\n",
    "\n",
    "f(0), f(1) = 1, 1    \n",
    "f(n) = f(n-2) + f(n-1)"
   ]
  },
  {
   "cell_type": "code",
   "execution_count": 12,
   "metadata": {},
   "outputs": [
    {
     "data": {
      "text/plain": [
       "8"
      ]
     },
     "execution_count": 12,
     "metadata": {},
     "output_type": "execute_result"
    }
   ],
   "source": [
    "def fibo(n):\n",
    "    if n == 1 or n == 2:\n",
    "        return 1\n",
    "    memo = [None] * (n+1)\n",
    "    memo[1], memo[2] = 1, 1\n",
    "    for i in range(3,  n+1):\n",
    "        memo[i] = memo[i-2] + memo[i-1]\n",
    "    return memo[n]\n",
    "\n",
    "fibo(6)"
   ]
  },
  {
   "cell_type": "markdown",
   "metadata": {},
   "source": [
    "피보나치 수열을 푸는 문제를 위 문제를 위해 조금 고친다.   \n"
   ]
  },
  {
   "cell_type": "code",
   "execution_count": null,
   "metadata": {},
   "outputs": [],
   "source": [
    "def solution(n):\n",
    "    memo = [None] * (n+1)\n",
    "    memo[0], memo[1] = 1, 1\n",
    "    for i in range(2,  n+1):\n",
    "        memo[i] = memo[i-2] + memo[i-1]\n",
    "    return memo[n]%1234567"
   ]
  },
  {
   "cell_type": "markdown",
   "metadata": {},
   "source": [
    "n이 커짐에 따라 리스트가 커지는, 메모리 소모가 커지는 것에 대비한다면,     \n",
    "아래와 같이 바꿔보는건 어떨까?"
   ]
  },
  {
   "cell_type": "code",
   "execution_count": 3,
   "metadata": {},
   "outputs": [
    {
     "data": {
      "text/plain": [
       "1"
      ]
     },
     "execution_count": 3,
     "metadata": {},
     "output_type": "execute_result"
    }
   ],
   "source": [
    "def solution_2(n):\n",
    "    memo = [1,2]\n",
    "    for i in range(2, n+1):\n",
    "        memo[0], memo[1] = memo[1], memo[0]+memo[1]\n",
    "    return memo[0]\n",
    "\n",
    "solution_2(0)"
   ]
  },
  {
   "cell_type": "code",
   "execution_count": null,
   "metadata": {},
   "outputs": [],
   "source": [
    "# final result\n",
    "def solution(n):\n",
    "    lst = [1,2]\n",
    "    for i in range(2, n+1):\n",
    "        lst[0], lst[1] = lst[1], lst[0]+lst[1]\n",
    "    return lst[0]%1000000007"
   ]
  },
  {
   "cell_type": "markdown",
   "metadata": {},
   "source": [
    "문제 출처\n",
    "- https://programmers.co.kr/learn/courses/30/lessons/12914"
   ]
  }
 ],
 "metadata": {
  "kernelspec": {
   "display_name": "Python 3",
   "language": "python",
   "name": "python3"
  },
  "language_info": {
   "codemirror_mode": {
    "name": "ipython",
    "version": 3
   },
   "file_extension": ".py",
   "mimetype": "text/x-python",
   "name": "python",
   "nbconvert_exporter": "python",
   "pygments_lexer": "ipython3",
   "version": "3.6.2"
  }
 },
 "nbformat": 4,
 "nbformat_minor": 2
}
