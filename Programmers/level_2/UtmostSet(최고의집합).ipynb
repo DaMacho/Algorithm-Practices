{
 "cells": [
  {
   "cell_type": "markdown",
   "metadata": {},
   "source": [
    "**문제**    \n",
    "최고의 집합 (level 2)"
   ]
  },
  {
   "cell_type": "markdown",
   "metadata": {},
   "source": [
    "문제 설명    \n",
    "자연수 n 개로 이루어진 집합 중에 다음 두 조건을 만족하는 집합을 최고의 집합이라고 합니다.\n",
    "- 각 원소의 합이 S가 되는 수의 집합   \n",
    "- 위 조건을 만족하면서 각 원소의 곱 이 최대가 되는 집합    \n",
    "\n",
    "예를 들어서 자연수 2개로 이루어진 집합 중 합이 9가 되는 집합은 다음과 같이 4개가 있습니다.   \n",
    "{ 1, 8 }, { 2, 7 }, { 3, 6 }, { 4, 5 }   \n",
    "그중 각 원소의 곱이 최대인 { 4, 5 }가 최고의 집합입니다.   \n",
    "\n",
    "집합의 원소의 개수 n과 모든 원소들의 합 s가 매개변수로 주어질 때, 최고의 집합을 return 하는 solution 함수를 완성해주세요.   \n",
    "\n",
    "제한사항   \n",
    "- 최고의 집합은 오름차순으로 정렬된 1차원 배열(list, vector) 로 return 해주세요.\n",
    "- 만약 최고의 집합이 존재하지 않는 경우에 크기가 1인 1차원 배열(list, vector) 에 -1 을 채워서 return 해주세요.\n",
    "- 자연수의 개수 n은 1 이상 10,000 이하의 자연수입니다.\n",
    "- 모든 원소들의 합 s는 1 이상, 100,000,000 이하의 자연수입니다."
   ]
  },
  {
   "cell_type": "markdown",
   "metadata": {},
   "source": [
    "<br>"
   ]
  },
  {
   "cell_type": "markdown",
   "metadata": {},
   "source": [
    "[접근]   \n",
    "- 최고의 집합이 존재하지 않는 경우, [-1]을 반환하는 경우를 먼저 생각해봄.\n",
    "    - 자연수의 갯수 n이 원소의 합 s보다 크면 최고의 집합이 존재하지 않음.\n",
    "        - 원소의 합이 s인 집합이 가질 수 있는 최대 자연수 갯수 n은 s이다. ex) [1]*s\n",
    "\n",
    "\n",
    "1. 테스트 케이스를 만들어서 생각해보았다.\n",
    "    - n = 3, s = 9, [3, 3, 3]\n",
    "    - n = 3, s = 10, [3, 3, 4]\n",
    "    - n = 3, s = 11, [3, 4, 4]\n",
    "2. 테스트 케이스를 해보면서 알게 된 점이,\n",
    "    - s가 n으로 나누어 떨어지면 그 몫이 n개로 이루어진 집합이 답이다.\n",
    "    - 나누어 떨어지지 않으면 그 나머지만큼을 집합내 원소에 더해주면 된다.\n",
    "        - 대신, 나머지를 원소들에 1씩 골고루 더해줘서 원소의 합 s를 만들어야 집합의 곱이 가장 크다.\n",
    "        - 제한사항에 집합은 오름차순으로 정렬되어야해서, 마지막 인덱스인 원소부터 그 전으로 1씩 더해주었다. "
   ]
  },
  {
   "cell_type": "code",
   "execution_count": 1,
   "metadata": {},
   "outputs": [],
   "source": [
    "def solution(n, s):\n",
    "    if n > s: return [-1]\n",
    "    a = [s//n]*n\n",
    "    for i in range(1,s-sum(a)+1):\n",
    "        a[-i] += 1\n",
    "    return a"
   ]
  },
  {
   "cell_type": "markdown",
   "metadata": {},
   "source": [
    "문제 출처\n",
    "- https://programmers.co.kr/learn/courses/30/lessons/12938"
   ]
  }
 ],
 "metadata": {
  "kernelspec": {
   "display_name": "Python 3",
   "language": "python",
   "name": "python3"
  },
  "language_info": {
   "codemirror_mode": {
    "name": "ipython",
    "version": 3
   },
   "file_extension": ".py",
   "mimetype": "text/x-python",
   "name": "python",
   "nbconvert_exporter": "python",
   "pygments_lexer": "ipython3",
   "version": "3.6.4"
  }
 },
 "nbformat": 4,
 "nbformat_minor": 2
}
