{
 "cells": [
  {
   "cell_type": "markdown",
   "metadata": {},
   "source": [
    "**문제**    \n",
    "숫자의 표현 (level 2)"
   ]
  },
  {
   "cell_type": "markdown",
   "metadata": {},
   "source": [
    "문제 설명   \n",
    "Finn은 요즘 수학공부에 빠져 있습니다. 수학 공부를 하던 Finn은 자연수 n을 연속한 자연수들로 표현 하는 방법이 여러개라는 사실을 알게 되었습니다. 예를들어 15는 다음과 같이 4가지로 표현 할 수 있습니다.   \n",
    "\n",
    "- 1 + 2 + 3 + 4 + 5 = 15   \n",
    "- 4 + 5 + 6 = 15   \n",
    "- 7 + 8 = 15   \n",
    "- 15 = 15   \n",
    "자연수 n이 매개변수로 주어질 때, 연속된 자연수들로 n을 표현하는 방법의 수를 return하는 solution를 완성해주세요.   \n",
    "\n",
    "제한사항   \n",
    "- n은 10,000 이하의 자연수 입니다."
   ]
  },
  {
   "cell_type": "markdown",
   "metadata": {},
   "source": [
    "<br>"
   ]
  },
  {
   "cell_type": "markdown",
   "metadata": {},
   "source": [
    "[접근]   \n",
    "반복문 중첩을 사용하자.   \n",
    "첫번째 바깥의 반복문은 덧셈을 시작하는 첫 숫자를 설정하는 반복문.   \n",
    "두번째 중첩된 반복문은 시작한 숫자부터 연속된 수를 더하는 반복문.   \n",
    "\n",
    "- 함수는 인자로 자연수 n을 받는다.\n",
    "- 표현방법의 수를 변수 answer로 설정하고 0으로 초기화.\n",
    "- for문을 사용하여 덧셈을 시작하는 첫 숫자를 루프마다 업데이트한다.\n",
    "    - 연속된 수의 합을 저장하는 변수 s를 설정하고 0으로 초기화.\n",
    "    - while문, 조건은 수의 합 s가 n보다 작다로 한다.\n",
    "        - 변수 s에 첫 숫자가 더해진다.\n",
    "        - 더해지는 숫자는 1씩 커지고 결국 연속된 수의 합이 s에 저장된다.\n",
    "        - if문, 덧셈결과 s가 n과 같으면, 표현하는 방법이 존재한다는 것이므로 answer에 1을 더해준다."
   ]
  },
  {
   "cell_type": "code",
   "execution_count": 1,
   "metadata": {},
   "outputs": [],
   "source": [
    "def solution(n):\n",
    "    answer = 0\n",
    "    for i in range(1, n+1):\n",
    "        s = 0\n",
    "        while s < n:\n",
    "            s += i\n",
    "            i += 1\n",
    "            if s == n:\n",
    "                answer += 1\n",
    "    return answer"
   ]
  },
  {
   "cell_type": "code",
   "execution_count": 5,
   "metadata": {},
   "outputs": [],
   "source": [
    "# 표현되는 방법들도 알고 싶다면...\n",
    "def solution_2(n):\n",
    "    answer = 0\n",
    "    a2 = []\n",
    "    for i in range(1, n+1):\n",
    "        s = 0\n",
    "        while s < n:\n",
    "            s += i\n",
    "            i += 1\n",
    "            if s == n:\n",
    "                answer += 1\n",
    "                a2.append(i-1)\n",
    "    return answer, a2"
   ]
  },
  {
   "cell_type": "code",
   "execution_count": 8,
   "metadata": {},
   "outputs": [
    {
     "data": {
      "text/plain": [
       "(4, [8, 9, 11, 30])"
      ]
     },
     "execution_count": 8,
     "metadata": {},
     "output_type": "execute_result"
    }
   ],
   "source": [
    "solution_2(30)"
   ]
  },
  {
   "cell_type": "markdown",
   "metadata": {},
   "source": [
    "문제 출처\n",
    "- https://programmers.co.kr/learn/courses/30/lessons/12924"
   ]
  }
 ],
 "metadata": {
  "kernelspec": {
   "display_name": "Python 3",
   "language": "python",
   "name": "python3"
  },
  "language_info": {
   "codemirror_mode": {
    "name": "ipython",
    "version": 3
   },
   "file_extension": ".py",
   "mimetype": "text/x-python",
   "name": "python",
   "nbconvert_exporter": "python",
   "pygments_lexer": "ipython3",
   "version": "3.6.4"
  }
 },
 "nbformat": 4,
 "nbformat_minor": 2
}
