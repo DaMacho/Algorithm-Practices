{
 "cells": [
  {
   "cell_type": "markdown",
   "metadata": {},
   "source": [
    "**문제**    \n",
    "124 나라의 숫자 (level 2)"
   ]
  },
  {
   "cell_type": "markdown",
   "metadata": {},
   "source": [
    "문제설명    \n",
    "124 나라가 있습니다. 124 나라에서는 10진법이 아닌 다음과 같은 자신들만의 규칙으로 수를 표현합니다.    \n",
    "\n",
    "1. 124 나라에는 자연수만 존재합니다.\n",
    "2. 124 나라에는 모든 수를 표현할 때 1, 2, 4만 사용합니다.\n",
    "\n",
    "예를 들어서 124 나라에서 사용하는 숫자는 다음과 같이 변환됩니다.   \n",
    "\n",
    "10진법|124 나라|10진법|124 나라\n",
    "---|---|---|---\n",
    "1|1|6|14\n",
    "2|2|7|21\n",
    "3|4|8|22\n",
    "4|11|9|24\n",
    "5|12|10|41\n",
    "\n",
    "자연수 n이 매개변수로 주어질 때, n을 124 나라에서 사용하는 숫자로 바꾼 값을 return 하도록 solution 함수를 완성해 주세요.   \n",
    "\n",
    "제한사항   \n",
    "- n은 500,000,000이하의 자연수 입니다."
   ]
  },
  {
   "cell_type": "markdown",
   "metadata": {},
   "source": [
    "<br>"
   ]
  },
  {
   "cell_type": "markdown",
   "metadata": {},
   "source": [
    "[접근]   \n"
   ]
  },
  {
   "cell_type": "code",
   "execution_count": 4,
   "metadata": {},
   "outputs": [],
   "source": [
    "def test1(n):\n",
    "    # q: quotient\n",
    "    q = n//3\n",
    "    # r: remain\n",
    "    r = n%3\n",
    "    return q, r"
   ]
  },
  {
   "cell_type": "code",
   "execution_count": 37,
   "metadata": {},
   "outputs": [
    {
     "name": "stdout",
     "output_type": "stream",
     "text": [
      "(0, 1)\n",
      "(0, 2)\n",
      "(1, 0)\n",
      "(1, 1)\n",
      "(1, 2)\n",
      "(2, 0)\n",
      "(2, 1)\n",
      "(2, 2)\n",
      "(3, 0)\n",
      "(3, 1)\n",
      "(3, 2)\n",
      "(4, 0)\n",
      "(4, 1)\n",
      "(4, 2)\n"
     ]
    }
   ],
   "source": [
    "print(test1(1))    # 1\n",
    "print(test1(2))    # 2\n",
    "print(test1(3))    # 4\n",
    "print(test1(4))   # 11\n",
    "print(test1(5))   # 12\n",
    "print(test1(6))   # 14\n",
    "print(test1(7))   # 21\n",
    "print(test1(8))   # 22\n",
    "print(test1(9))   # 24\n",
    "print(test1(10))  # 41\n",
    "print(test1(11))  # 42\n",
    "print(test1(12))  # 44\n",
    "print(test1(13)) # 111\n",
    "print(test1(14)) # 112"
   ]
  },
  {
   "cell_type": "code",
   "execution_count": 45,
   "metadata": {},
   "outputs": [],
   "source": [
    "def test2(n):\n",
    "    q, r = n//3, n%3\n",
    "    if r == 0: q -= 1\n",
    "    return q,r"
   ]
  },
  {
   "cell_type": "code",
   "execution_count": 48,
   "metadata": {},
   "outputs": [
    {
     "name": "stdout",
     "output_type": "stream",
     "text": [
      "(0, 1)\n",
      "(0, 2)\n",
      "(0, 0)\n",
      "(1, 1)\n",
      "(1, 2)\n",
      "(1, 0)\n",
      "(2, 1)\n"
     ]
    }
   ],
   "source": [
    "print(test2(1))\n",
    "print(test2(2))\n",
    "print(test2(3))\n",
    "print(test2(4))\n",
    "print(test2(5))\n",
    "print(test2(6))\n",
    "print(test2(7))\n"
   ]
  },
  {
   "cell_type": "code",
   "execution_count": 49,
   "metadata": {},
   "outputs": [],
   "source": [
    "def test3(n):\n",
    "    q, r = n//3, n%3\n",
    "    if r == 0: q -= 1\n",
    "    return q,\"412\"[r]"
   ]
  },
  {
   "cell_type": "code",
   "execution_count": 52,
   "metadata": {},
   "outputs": [
    {
     "name": "stdout",
     "output_type": "stream",
     "text": [
      "(0, '1')\n",
      "(0, '2')\n",
      "(0, '4')\n",
      "(1, '1')\n",
      "(1, '2')\n",
      "(1, '4')\n",
      "(2, '1')\n",
      "\n",
      "(3, '1')\n",
      "(4, '1')\n",
      "\n",
      "(0, '4') 1\n"
     ]
    }
   ],
   "source": [
    "print(test3(1))\n",
    "print(test3(2))\n",
    "print(test3(3))\n",
    "print(test3(4))\n",
    "print(test3(5))\n",
    "print(test3(6))\n",
    "print(test3(7))\n",
    "print()\n",
    "print(test3(10))\n",
    "print(test3(13))\n",
    "print()\n",
    "print(test3(test3(10)[0]), test3(10)[1])"
   ]
  },
  {
   "cell_type": "code",
   "execution_count": 56,
   "metadata": {},
   "outputs": [],
   "source": [
    "def test4(n):\n",
    "    answer = \"\"\n",
    "    while n > 0:\n",
    "        n, r = n//3, n%3\n",
    "        if r == 0: n -= 1\n",
    "        answer = \"412\"[r] + answer\n",
    "    return int(answer)"
   ]
  },
  {
   "cell_type": "code",
   "execution_count": 57,
   "metadata": {
    "scrolled": true
   },
   "outputs": [
    {
     "name": "stdout",
     "output_type": "stream",
     "text": [
      "1\n",
      "2\n",
      "4\n",
      "11\n",
      "12\n",
      "14\n",
      "21\n",
      "22\n",
      "24\n",
      "41\n",
      "42\n",
      "44\n",
      "111\n",
      "112\n"
     ]
    }
   ],
   "source": [
    "print(test4(1))    # 1\n",
    "print(test4(2))    # 2\n",
    "print(test4(3))    # 4\n",
    "print(test4(4))   # 11\n",
    "print(test4(5))   # 12\n",
    "print(test4(6))   # 14\n",
    "print(test4(7))   # 21\n",
    "print(test4(8))   # 22\n",
    "print(test4(9))   # 24\n",
    "print(test4(10))  # 41\n",
    "print(test4(11))  # 42\n",
    "print(test4(12))  # 44\n",
    "print(test4(13)) # 111\n",
    "print(test4(14)) # 112"
   ]
  },
  {
   "cell_type": "code",
   "execution_count": null,
   "metadata": {},
   "outputs": [],
   "source": [
    "def solution(n):\n",
    "    answer = \"\"\n",
    "    while n > 0:\n",
    "        n, r = n//3, n%3\n",
    "        if r == 0: n -= 1\n",
    "        answer = \"412\"[r] + answer\n",
    "    return answer"
   ]
  },
  {
   "cell_type": "markdown",
   "metadata": {},
   "source": [
    "문제 출처\n",
    "- https://programmers.co.kr/learn/courses/30/lessons/12899"
   ]
  }
 ],
 "metadata": {
  "kernelspec": {
   "display_name": "Python 3",
   "language": "python",
   "name": "python3"
  },
  "language_info": {
   "codemirror_mode": {
    "name": "ipython",
    "version": 3
   },
   "file_extension": ".py",
   "mimetype": "text/x-python",
   "name": "python",
   "nbconvert_exporter": "python",
   "pygments_lexer": "ipython3",
   "version": "3.6.4"
  }
 },
 "nbformat": 4,
 "nbformat_minor": 2
}
