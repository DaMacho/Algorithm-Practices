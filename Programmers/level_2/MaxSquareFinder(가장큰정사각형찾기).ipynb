{
 "cells": [
  {
   "cell_type": "markdown",
   "metadata": {},
   "source": [
    "**문제**   \n",
    "가장 큰 정사각형 (level 2)"
   ]
  },
  {
   "cell_type": "markdown",
   "metadata": {},
   "source": [
    "문제 설명   \n",
    "1와 0로 채워진 표(board)가 있습니다. 표 1칸은 1 x 1 의 정사각형으로 이루어져 있습니다. 표에서 1로 이루어진 가장 큰 정사각형을 찾아 넓이를 return 하는 solution 함수를 완성해 주세요. (단, 정사각형이란 축에 평행한 정사각형을 말합니다.)\n",
    "\n",
    "예를 들어\n",
    "\n",
    "1\t2\t3\t4   \n",
    "0\t1\t1\t1   \n",
    "1\t1\t1\t1   \n",
    "1\t1\t1\t1   \n",
    "0\t0\t1\t0   \n",
    "\n",
    "가 있다면 가장 큰 정사각형은\n",
    "\n",
    "1\t2\t3\t4   \n",
    "0\t~~1\t1\t1~~   \n",
    "1\t~~1\t1\t1~~   \n",
    "1\t~~1\t1\t1~~   \n",
    "0\t0\t1\t0   \n",
    "\n",
    "가 되며 넓이는 9가 되므로 9를 반환해 주면 됩니다.\n",
    "\n",
    "제한사항   \n",
    "표(board)는 2차원 배열로 주어집니다.   \n",
    "표(board)의 행(row)의 크기 : 1000 이하의 자연수   \n",
    "표(board)의 열(column)의 크기 : 1000 이하의 자연수   \n",
    "표(board)의 값은 1또는 0으로만 이루어져 있습니다."
   ]
  },
  {
   "cell_type": "markdown",
   "metadata": {},
   "source": [
    "입출력 예   \n",
    "\n",
    "board|answer\n",
    "---|---\n",
    "[[0,1,1,1],[1,1,1,1],[1,1,1,1],[0,0,1,0]]|9\n",
    "[[0,0,1,1],[1,1,1,1]]|4"
   ]
  },
  {
   "cell_type": "markdown",
   "metadata": {},
   "source": [
    "입출력 예 설명   \n",
    "입출력 예 #1   \n",
    "위의 예시와 같습니다.   \n",
    "\n",
    "입출력 예 #2   \n",
    "| 0 | 0 ~~| 1 | 1 |~~   \n",
    "| 1 | 1 ~~| 1 | 1 |~~    \n",
    "로 가장 큰 정사각형의 넓이는 4가 되므로 4를 return합니다."
   ]
  },
  {
   "cell_type": "markdown",
   "metadata": {},
   "source": [
    "<br>"
   ]
  },
  {
   "cell_type": "markdown",
   "metadata": {},
   "source": [
    "[접근]   \n",
    "1. 컨볼루션 레이어처럼 계산해보면 어떨까?\n",
    "    - 주어진 배열에서 만들 수 있는 가장 큰 정사각형을 만들어서 그 배열의 합이 넓이와 같은 경우를 찾자!\n",
    "    - 정사각형을 이동시키면서 그리고 가로 세로 길이를 1씩 줄이면서 구해보자!\n",
    "    - 근데 이게 대충 생각만 해봐도 매우 비효율적인게 느껴짐... (배열합 구하는 거를 몇번을 해야하는겨?)\n",
    "2. 깊이 우선, 너비 우선 탐색을 적용해볼까?\n",
    "    - 해보다가 깊이 우선, 너비 우선 복습만 함...\n",
    "3. 결국 다른 분이 풀어서 블로그에 올리신 [포스팅](http://whatisthenext.tistory.com/138) 참고함.\n",
    "    - Dynamic Programming을 통해 푸신 글을 봄.\n",
    "    - 신세계 열림... ㅎㄷㄷ...\n",
    "    - 자료구조 공부하면서 배웠지만 자세히 공부 안함... 후회함... 반성함...\n",
    "   \n",
    "   \n",
    "결론 -  Dynamic Programming이 재귀보다 좋고, 매우 뛰어난 방법입을 깨닳음."
   ]
  },
  {
   "cell_type": "code",
   "execution_count": null,
   "metadata": {},
   "outputs": [],
   "source": [
    "def solution(board):\n",
    "    # check whether board is consist of only zeros\n",
    "    _s = 0\n",
    "    for i in range(len(board)):\n",
    "        _s += sum(board[i][:])\n",
    "    if _s == 0:\n",
    "        return 0\n",
    "    \n",
    "    _s = 0  # initialize _s to 0\n",
    "    \n",
    "    table = [[x for x in sub] for sub in board]\n",
    "    for x in range(1,len(table)):\n",
    "        for y in range(1, len(table[x])):\n",
    "            if table[x][y] == 0:\n",
    "                continue\n",
    "            else:\n",
    "                _min = min([table[x][y-1], table[x-1][y], table[x-1][y-1]])\n",
    "                table[x][y] = _min + 1\n",
    "                if _s < table[x][y]:\n",
    "                    _s = table[x][y]\n",
    "                    \n",
    "    # if board looks like identity matrix _s would be 0, but max square would be 1.\n",
    "    if _s == 0:\n",
    "        return 1\n",
    "    else:\n",
    "        return _s ** 2"
   ]
  },
  {
   "cell_type": "markdown",
   "metadata": {},
   "source": [
    "문제 출처\n",
    "- https://programmers.co.kr/learn/courses/30/lessons/12905"
   ]
  }
 ],
 "metadata": {
  "kernelspec": {
   "display_name": "Python 3",
   "language": "python",
   "name": "python3"
  },
  "language_info": {
   "codemirror_mode": {
    "name": "ipython",
    "version": 3
   },
   "file_extension": ".py",
   "mimetype": "text/x-python",
   "name": "python",
   "nbconvert_exporter": "python",
   "pygments_lexer": "ipython3",
   "version": "3.6.4"
  }
 },
 "nbformat": 4,
 "nbformat_minor": 2
}
