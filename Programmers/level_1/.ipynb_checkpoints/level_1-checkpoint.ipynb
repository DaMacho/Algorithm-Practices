{
 "cells": [
  {
   "cell_type": "markdown",
   "metadata": {},
   "source": [
    "[문제] 가운데 글자 가져오기   \n",
    "   \n",
    "문제설명   \n",
    "단어 s의 가운데 글자를 반환하는 함수, solution을 만들어 보세요. 단어의 길이가 짝수라면 가운데 두글자를 반환하면 됩니다.   \n",
    "   \n",
    "제한사항\n",
    "- s는 길이가 1 이상, 100이하인 스트링입니다."
   ]
  },
  {
   "cell_type": "markdown",
   "metadata": {},
   "source": [
    "[접근]    \n",
    "- 문자열의 길이가 짝수 혹은 홀수인 경우로 나눈다.\n",
    "- 문자열 길이가 짝수 경우: (문자열 길이)//2 - 1 번 인덱스의 문자와 다음 인덱스의 문자를 반환\n",
    "- 문자열 길이가 홀수 경우: (문자열 길이)//2 - 1 번 인덱스의 문자를 반환"
   ]
  },
  {
   "cell_type": "code",
   "execution_count": null,
   "metadata": {},
   "outputs": [],
   "source": [
    "# MiddleLetter.py\n",
    "def solution(st):\n",
    "    if len(st) > 2:\n",
    "        if len(st)%2 == 0:\n",
    "            return st[int(len(st)/2)-1:int(len(st)/2)+1]\n",
    "        if len(st)%2 != 0:\n",
    "            return st[int((len(st)-1)/2)]\n",
    "    else:\n",
    "        return st"
   ]
  },
  {
   "cell_type": "markdown",
   "metadata": {},
   "source": [
    "<br>"
   ]
  }
 ],
 "metadata": {
  "kernelspec": {
   "display_name": "Python 3",
   "language": "python",
   "name": "python3"
  },
  "language_info": {
   "codemirror_mode": {
    "name": "ipython",
    "version": 3
   },
   "file_extension": ".py",
   "mimetype": "text/x-python",
   "name": "python",
   "nbconvert_exporter": "python",
   "pygments_lexer": "ipython3",
   "version": "3.6.4"
  }
 },
 "nbformat": 4,
 "nbformat_minor": 2
}
