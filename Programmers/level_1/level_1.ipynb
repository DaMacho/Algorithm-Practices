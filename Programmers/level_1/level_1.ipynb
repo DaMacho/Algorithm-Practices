{
 "cells": [
  {
   "cell_type": "markdown",
   "metadata": {},
   "source": [
    "[문제] 가운데 글자 가져오기   \n",
    "   \n",
    "문제설명   \n",
    "단어 s의 가운데 글자를 반환하는 함수, solution을 만들어 보세요. 단어의 길이가 짝수라면 가운데 두글자를 반환하면 됩니다.   \n",
    "   \n",
    "제한사항\n",
    "- s는 길이가 1 이상, 100이하인 스트링입니다."
   ]
  },
  {
   "cell_type": "markdown",
   "metadata": {},
   "source": [
    "[접근]    \n",
    "- 문자열의 길이가 짝수 혹은 홀수인 경우로 나눈다.\n",
    "- 문자열 길이가 짝수 경우: (문자열 길이)//2 - 1 번 인덱스의 문자와 다음 인덱스의 문자를 반환\n",
    "- 문자열 길이가 홀수 경우: (문자열 길이)//2 - 1 번 인덱스의 문자를 반환"
   ]
  },
  {
   "cell_type": "code",
   "execution_count": null,
   "metadata": {},
   "outputs": [],
   "source": [
    "# MiddleLetter.py\n",
    "def solution(st):\n",
    "    if len(st) > 2:\n",
    "        if len(st)%2 == 0:\n",
    "            return st[int(len(st)/2)-1:int(len(st)/2)+1]\n",
    "        if len(st)%2 != 0:\n",
    "            return st[int((len(st)-1)/2)]\n",
    "    else:\n",
    "        return st"
   ]
  },
  {
   "cell_type": "markdown",
   "metadata": {},
   "source": [
    "<br>"
   ]
  },
  {
   "cell_type": "markdown",
   "metadata": {},
   "source": [
    "[문제] 같은 숫자는 싫어   \n",
    "\n",
    "문제 설명   \n",
    "배열 arr가 주어집니다. 배열 arr의 각 원소는 숫자 0부터 9까지로 이루어져 있습니다. 이때, 배열 arr에서 연속적으로 나타나는 숫자는 하나만 남기고 전부 제거하려고 합니다. 배열 arr에서 제거 되고 남은 수들을 return 하는 solution 함수를 완성해 주세요. 단, 제거된 후 남은 수들을 반환할 때는 배열 arr의 원소들의 순서를 유지해야 합니다.   \n",
    "\n",
    "예를들면   \n",
    "\n",
    "- arr = [1, 1, 3, 3, 0, 1, 1] 이면 [1, 3, 0, 1] 을 return 합니다.   \n",
    "- arr = [4, 4, 4, 3, 3] 이면 [4, 3] 을 return 합니다.\n",
    "\n",
    "배열 arr에서 연속적으로 나타나는 숫자는 제거하고 남은 수들을 return 하는 solution 함수를 완성해 주세요.   \n",
    "\n",
    "제한사항   \n",
    "배열 arr의 크기 : 1,000,000 이하의 자연수   \n",
    "배열 arr의 원소의 크기 : 0보다 크거나 같고 9보다 작거나 같은 정수   "
   ]
  },
  {
   "cell_type": "markdown",
   "metadata": {},
   "source": [
    "[접근]    \n",
    "최초 성공 케이스)    \n",
    "1번을 추가하고 이후 2번을 추가함.  \n",
    "- for문을 돌면서 임시 리스트인 temp에 원소를 추가한다.\n",
    "    - 2) if i가 루프의 마지막이라면, temp에 추가한다.\n",
    "        - temp를 반환한다.\n",
    "    - 1) (elif) if 현재 배열에서 포인팅하는 원소(arr[i])와 그 다음 원소(arr[i+1])을 비교한다.\n",
    "        - 서로 다르면 arr[i]를 temp에 추가한다.\n",
    "    => 위 if문만으로 실행한 경우, 인덱스 초과 오류발생. \n",
    "    \n",
    "두번째 성공 케이스)   \n",
    "더 단순하게, 임시 리스트의 원소와 현재 리스트의 원소를 비교하는 방법을 생각해봄.\n",
    "- for문을 돌면서 임시 리스트 tmp에 원소를 추가함.\n",
    "    - if tmp의 마지막 원소만으로 이루어진 리스트(\":\" 미표기시 인덱스 에러발생)와 arr[i]만으로 이루어진 배열([arr[i]])을 비교.\n",
    "        - 비교하여 두 리스트가 같지 않다면, arr[i]를 tmp에 추가함.\n",
    "- tmp를 반환함.\n"
   ]
  },
  {
   "cell_type": "code",
   "execution_count": null,
   "metadata": {},
   "outputs": [],
   "source": [
    "# 최초 실행성공 케이스\n",
    "def solution(arr):\n",
    "    if len(arr) == 0 or len(arr) == 1:\n",
    "        return arr\n",
    "    temp = []\n",
    "    for i in range(len(arr)):\n",
    "        if i == len(arr)-1:\n",
    "            temp.append(arr[i])\n",
    "            return temp\n",
    "        elif arr[i] != arr[i+1]:\n",
    "            temp.append(arr[i])"
   ]
  },
  {
   "cell_type": "code",
   "execution_count": null,
   "metadata": {},
   "outputs": [],
   "source": [
    "# 이후 실행성공 케이스\n",
    "def solution(arr):\n",
    "    tmp = []\n",
    "    for i in range(len(arr)):\n",
    "        if tmp[-1:] != [arr[i]]:\n",
    "            tmp.append(arr[i])\n",
    "    return tmp"
   ]
  },
  {
   "cell_type": "markdown",
   "metadata": {},
   "source": [
    "<br>"
   ]
  }
 ],
 "metadata": {
  "kernelspec": {
   "display_name": "Python 3",
   "language": "python",
   "name": "python3"
  },
  "language_info": {
   "codemirror_mode": {
    "name": "ipython",
    "version": 3
   },
   "file_extension": ".py",
   "mimetype": "text/x-python",
   "name": "python",
   "nbconvert_exporter": "python",
   "pygments_lexer": "ipython3",
   "version": "3.6.2"
  }
 },
 "nbformat": 4,
 "nbformat_minor": 2
}
